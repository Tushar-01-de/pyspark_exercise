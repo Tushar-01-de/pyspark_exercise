{
 "cells": [
  {
   "cell_type": "raw",
   "id": "45b5971f-5958-46ee-95d6-77f0337c70df",
   "metadata": {},
   "source": [
    "Importing Required File"
   ]
  },
  {
   "cell_type": "code",
   "execution_count": 106,
   "id": "24d1b882-c911-496b-9b28-4549c25d9f18",
   "metadata": {},
   "outputs": [],
   "source": [
    "from pyspark.sql import SparkSession\n",
    "from pyspark.sql import DataFrame as DF\n",
    "from pyspark.sql import functions as f\n",
    "from pyspark.sql.window import Window\n",
    "from datetime import datetime\n",
    "from pyspark.sql.types import StructType,StructField,StringType,IntegerType\n",
    "import sys,os"
   ]
  },
  {
   "cell_type": "code",
   "execution_count": 107,
   "id": "67f68c68-e717-4dc1-aaa9-8c223f55de4f",
   "metadata": {},
   "outputs": [],
   "source": [
    "sp = SparkSession.builder.appName(\"Test\").getOrCreate()"
   ]
  },
  {
   "cell_type": "raw",
   "id": "4b280180-803a-40d6-a870-19c7693c4c19",
   "metadata": {},
   "source": [
    "Setting datatype for source columns (Manual work)"
   ]
  },
  {
   "cell_type": "code",
   "execution_count": 108,
   "id": "355994fd-a48c-4b8d-9113-7341b2612de6",
   "metadata": {},
   "outputs": [],
   "source": [
    "schema = StructType([\n",
    "    StructField('name',StringType(),True),\n",
    "    StructField('phone',StringType(),True),\n",
    "    StructField('email',StringType(),True),\n",
    "    StructField('numberrange',StringType(),True)\n",
    "])\n"
   ]
  },
  {
   "cell_type": "code",
   "execution_count": 109,
   "id": "868fde52-3ff1-43cc-97da-2524d6065061",
   "metadata": {},
   "outputs": [
    {
     "name": "stdout",
     "output_type": "stream",
     "text": [
      "root\n",
      " |-- name: string (nullable = true)\n",
      " |-- phone: string (nullable = true)\n",
      " |-- email: string (nullable = true)\n",
      " |-- numberrange: string (nullable = true)\n",
      "\n"
     ]
    }
   ],
   "source": [
    "df_src = sp.read.csv(\"./data_scr.csv\",header=True,schema=schema)\n",
    "df_src.printSchema()"
   ]
  },
  {
   "cell_type": "raw",
   "id": "f07185b4-5608-460d-94de-46bc2a538743",
   "metadata": {},
   "source": [
    "Generating runtime ID column for entire table with combination of columns (Source file)"
   ]
  },
  {
   "cell_type": "code",
   "execution_count": 110,
   "id": "37fb778e-c820-49b9-8e10-3f56a15f17f9",
   "metadata": {},
   "outputs": [],
   "source": [
    "wind = Window().orderBy(df_src.name,df_src.phone,df_src.email)\n",
    "df_src = df_src.withColumn('id',f.row_number().over(wind))"
   ]
  },
  {
   "cell_type": "code",
   "execution_count": 111,
   "id": "94fcded6-1ae9-4069-85f9-75365c75d1c5",
   "metadata": {},
   "outputs": [
    {
     "name": "stdout",
     "output_type": "stream",
     "text": [
      "root\n",
      " |-- name: string (nullable = true)\n",
      " |-- phone: string (nullable = true)\n",
      " |-- email: string (nullable = true)\n",
      " |-- numberrange: string (nullable = true)\n",
      " |-- id: integer (nullable = false)\n",
      "\n",
      "+--------------+--------------+--------------------+-----------+---+\n",
      "|          name|         phone|               email|numberrange| id|\n",
      "+--------------+--------------+--------------------+-----------+---+\n",
      "| Aladdin Simon|1-355-186-8775|risus.a.ultricies...|          0|  1|\n",
      "|   Alec Hinton|(741) 177-1030|hendrerit.consect...|          4|  2|\n",
      "|  Alexa Barker|1-245-418-8957|parturient.montes...|          3|  3|\n",
      "|Alfreda Guerra|(761) 258-5778|aliquam.ultrices....|          0|  4|\n",
      "|Alvin Cummings|(354) 588-7652|eros.proin.ultric...|          2|  5|\n",
      "+--------------+--------------+--------------------+-----------+---+\n",
      "only showing top 5 rows\n",
      "\n"
     ]
    }
   ],
   "source": [
    "df_src.printSchema()\n",
    "df_src.show(5)"
   ]
  },
  {
   "cell_type": "code",
   "execution_count": 112,
   "id": "aa5c2bf0-ba1f-48b5-8ca2-bf286ac30e9c",
   "metadata": {},
   "outputs": [
    {
     "name": "stdout",
     "output_type": "stream",
     "text": [
      "root\n",
      " |-- name: string (nullable = true)\n",
      " |-- phone: string (nullable = true)\n",
      " |-- email: string (nullable = true)\n",
      " |-- numberrange: string (nullable = true)\n",
      "\n"
     ]
    }
   ],
   "source": [
    "df_tgt = sp.read.csv(\"./tgt_data.csv\",header=True,schema=schema)\n",
    "df_tgt.printSchema()"
   ]
  },
  {
   "cell_type": "raw",
   "id": "c6a815ec-6255-4e4a-b348-cc84f66579d0",
   "metadata": {},
   "source": [
    "Generating runtime ID column for entire table with combination of columns (Source file)"
   ]
  },
  {
   "cell_type": "code",
   "execution_count": 113,
   "id": "26f1b1c5-ea0f-4675-be71-9b5e29941c25",
   "metadata": {},
   "outputs": [
    {
     "name": "stdout",
     "output_type": "stream",
     "text": [
      "+--------------+--------------+--------------------+-----------+---+\n",
      "|          name|         phone|               email|numberrange| id|\n",
      "+--------------+--------------+--------------------+-----------+---+\n",
      "| Aladdin Simon|1-355-186-8775|rissus.a.ultricie...|          0|  1|\n",
      "|   Alec Hinton|(741) 177-1030|hendrerit.consect...|          4|  2|\n",
      "|  Alexa Barker|1-245-418-8957|parturient.montes...|          3|  3|\n",
      "|Alfreda Guerra|(761) 258-5778|aliquam.ultrices....|          0|  4|\n",
      "|Alvin Cummings|(354) 588-7652|eros.proin.ultric...|          2|  5|\n",
      "+--------------+--------------+--------------------+-----------+---+\n",
      "only showing top 5 rows\n",
      "\n"
     ]
    }
   ],
   "source": [
    "wind = Window().orderBy(df_tgt.name,df_tgt.phone,df_tgt.email)\n",
    "df_tgt = df_tgt.withColumn('id',f.row_number().over(wind))\n",
    "df_tgt.show(5)"
   ]
  },
  {
   "cell_type": "raw",
   "id": "da08d26f-559c-49f7-a011-3964ade6e053",
   "metadata": {},
   "source": [
    "Function for existance of columns in both source and target tbl "
   ]
  },
  {
   "cell_type": "code",
   "execution_count": 114,
   "id": "b0efca81-2a70-4d13-b5c0-c2bf4182c26b",
   "metadata": {},
   "outputs": [],
   "source": [
    "def col_check(df1,df2):\n",
    "    return  [i for i in df1.columns if i not in df2.columns]"
   ]
  },
  {
   "cell_type": "code",
   "execution_count": 115,
   "id": "11bc0701-1030-463f-b5e1-69a53b8877ca",
   "metadata": {},
   "outputs": [
    {
     "data": {
      "text/plain": [
       "[]"
      ]
     },
     "execution_count": 115,
     "metadata": {},
     "output_type": "execute_result"
    }
   ],
   "source": [
    "col_check(df_src,df_tgt)\n",
    "col_check(df_tgt,df_src)"
   ]
  },
  {
   "cell_type": "raw",
   "id": "591631ce-b087-466f-bf6f-10aee400443e",
   "metadata": {},
   "source": [
    "Function for column count verification"
   ]
  },
  {
   "cell_type": "code",
   "execution_count": 116,
   "id": "1ed71d43-2148-4c74-97f9-37e40e8d69ff",
   "metadata": {},
   "outputs": [],
   "source": [
    "def count_chk(df1,df2):\n",
    "    return df1.count() == df2.count()"
   ]
  },
  {
   "cell_type": "code",
   "execution_count": 117,
   "id": "76cb9cbc-7eec-4549-b324-2ee2142bef6c",
   "metadata": {},
   "outputs": [
    {
     "data": {
      "text/plain": [
       "True"
      ]
     },
     "execution_count": 117,
     "metadata": {},
     "output_type": "execute_result"
    }
   ],
   "source": [
    "count_chk(df_src,df_tgt)"
   ]
  },
  {
   "cell_type": "raw",
   "id": "bfc55ec2-c811-48c7-a9bc-a037b343628d",
   "metadata": {},
   "source": [
    "Function for row count verification between source and target"
   ]
  },
  {
   "cell_type": "code",
   "execution_count": 118,
   "id": "b1d08643-c423-4edf-a023-7b7ed117f2f0",
   "metadata": {},
   "outputs": [],
   "source": [
    "def verify_count(col_s,col_t,df_s,df_t,PK_s,PK_t):\n",
    "    l=[]\n",
    "    for c in zip(PK_s,PK_t) :\n",
    "        l.append(df_s[c[0]] == df_t[c[1]])\n",
    "    if len(l) == 2:\n",
    "        con = l[0] & l[1]\n",
    "    elif len(l) == 3 :\n",
    "        con = l[0] & l[1] & l[2]\n",
    "    else : con = l[0]\n",
    "    #print(con)    \n",
    "    df = df_s.join(df_t,con,'inner')\\\n",
    "        .agg(\n",
    "            f.sum(f.when(col_s.isNull() & col_t.isNull(),1).otherwise(0)).alias('Both Null'),\\\n",
    "            f.sum(f.when(col_s.isNull() & col_t.isNotNull(),1).otherwise(0)).alias('s Null t not null'),\\\n",
    "            f.sum(f.when(col_s.isNotNull() & col_t.isNull(),1).otherwise(0)).alias('s not Null t null'),\\\n",
    "            f.sum(f.when(col_s == col_t ,1).otherwise(0)).alias('match'),\\\n",
    "            f.sum(f.when(col_s != col_t ,1).otherwise(0)).alias('mismatch')\n",
    "            )\n",
    "    return df"
   ]
  },
  {
   "cell_type": "raw",
   "id": "fbe4e7cc-e492-48e5-bf14-a38add7b2ace",
   "metadata": {},
   "source": [
    "Function for validate counts output (Adding list of primary key ,Manual task)"
   ]
  },
  {
   "cell_type": "code",
   "execution_count": 119,
   "id": "fd20fdfd-1ee9-44c9-9ffb-7a840400eea0",
   "metadata": {},
   "outputs": [],
   "source": [
    "def validate_count(df_s,df_tgt):\n",
    "    for cols in df_s.columns:\n",
    "        print(cols)\n",
    "        verify_count(df_s[cols],df_tgt[cols],df_s,df_tgt,PK_s=['id'],PK_t=['id']).show()\n",
    "        #.write.option(\"header\",True).mode(\"append\").csv(\"./op1.csv\")\n",
    "        \n",
    "        "
   ]
  },
  {
   "cell_type": "code",
   "execution_count": 120,
   "id": "39b151e2-1ad8-4a97-bba9-13b866caea3a",
   "metadata": {},
   "outputs": [
    {
     "name": "stdout",
     "output_type": "stream",
     "text": [
      "name\n",
      "+---------+-----------------+-----------------+-----+--------+\n",
      "|Both Null|s Null t not null|s not Null t null|match|mismatch|\n",
      "+---------+-----------------+-----------------+-----+--------+\n",
      "|        0|                0|                0|   99|       1|\n",
      "+---------+-----------------+-----------------+-----+--------+\n",
      "\n",
      "phone\n",
      "+---------+-----------------+-----------------+-----+--------+\n",
      "|Both Null|s Null t not null|s not Null t null|match|mismatch|\n",
      "+---------+-----------------+-----------------+-----+--------+\n",
      "|        0|                0|                0|  100|       0|\n",
      "+---------+-----------------+-----------------+-----+--------+\n",
      "\n",
      "email\n",
      "+---------+-----------------+-----------------+-----+--------+\n",
      "|Both Null|s Null t not null|s not Null t null|match|mismatch|\n",
      "+---------+-----------------+-----------------+-----+--------+\n",
      "|        0|                0|                0|   98|       2|\n",
      "+---------+-----------------+-----------------+-----+--------+\n",
      "\n",
      "numberrange\n",
      "+---------+-----------------+-----------------+-----+--------+\n",
      "|Both Null|s Null t not null|s not Null t null|match|mismatch|\n",
      "+---------+-----------------+-----------------+-----+--------+\n",
      "|        0|                0|                0|   99|       1|\n",
      "+---------+-----------------+-----------------+-----+--------+\n",
      "\n",
      "id\n",
      "+---------+-----------------+-----------------+-----+--------+\n",
      "|Both Null|s Null t not null|s not Null t null|match|mismatch|\n",
      "+---------+-----------------+-----------------+-----+--------+\n",
      "|        0|                0|                0|  100|       0|\n",
      "+---------+-----------------+-----------------+-----+--------+\n",
      "\n"
     ]
    }
   ],
   "source": [
    "validate_count(df_src,df_tgt)"
   ]
  },
  {
   "cell_type": "markdown",
   "id": "369a3b8c-0cb4-4b73-81b5-f07a7f68e860",
   "metadata": {},
   "source": [
    "Function for row level data verification between source and target"
   ]
  },
  {
   "cell_type": "code",
   "execution_count": 121,
   "id": "d66d25c3-695d-41c6-848b-037a44ee3c68",
   "metadata": {},
   "outputs": [],
   "source": [
    "def verify_data(col_s,col_t,df_s,df_t,PK_s,PK_t):\n",
    "    l=[]\n",
    "    for c in zip(PK_s,PK_t) :\n",
    "        l.append(df_s[c[0]] == df_t[c[1]])\n",
    "    if len(l) == 2:\n",
    "        con = l[0] & l[1]\n",
    "    elif len(l) == 3 :\n",
    "        con = l[0] & l[1] & l[2]\n",
    "    else : con = l[0]\n",
    "    #print(con)    \n",
    "    df_Mismatch = df_s.join(df_t,con,'inner')\\\n",
    "            .where(col_s != col_t)\\\n",
    "            .select(df_t[PK_s[0]],col_s.alias(\"source \"+ str(col_s)),col_t.alias(\"Tgt \"+ str(col_s)))\n",
    "    \n",
    "    df_s_null_t_not_null = df_s.join(df_t,con,'inner')\\\n",
    "            .where(col_s.isNull() & col_t.isNotNull())\\\n",
    "            .select(df_t[PK_s[0]],col_s.alias(\"source \"+ str(col_s)),col_t.alias(\"Tgt \"+ str(col_s)))\n",
    "    \n",
    "    df_s_not_null_t_null = df_s.join(df_t,con,'inner')\\\n",
    "            .where(col_s.isNotNull() & col_t.isNull())\\\n",
    "            .select(df_t[PK_s[0]],col_s.alias(\"source \"+ str(col_s)),col_t.alias(\"Tgt \"+ str(col_s)))\n",
    "            \n",
    "    return df_Mismatch,df_s_null_t_not_null,df_s_not_null_t_null"
   ]
  },
  {
   "cell_type": "raw",
   "id": "351ca8eb-8bac-44b8-a79d-2eb2c89fa61a",
   "metadata": {},
   "source": [
    "Function for validate row level output (Adding list of primary key ,Manual task)"
   ]
  },
  {
   "cell_type": "code",
   "execution_count": 122,
   "id": "1b28e073-e0b0-4e1c-b7a9-c1b3c139ac4d",
   "metadata": {},
   "outputs": [],
   "source": [
    "def validate_data(df_s,df_tgt):\n",
    "    dict_df={}\n",
    "    for index,cols in enumerate(df_s.columns):\n",
    "        #print(cols)\n",
    "        dict_df[cols]=verify_data(df_s[cols],df_tgt[cols],df_s,df_tgt,PK_s=['id'],PK_t=['id'])\n",
    "    return dict_df"
   ]
  },
  {
   "cell_type": "raw",
   "id": "e12417ec-ce39-4bf7-9b7b-d8cad10960cd",
   "metadata": {},
   "source": [
    "stored multiple df from above function inside a dictionary and read them one by one"
   ]
  },
  {
   "cell_type": "code",
   "execution_count": 123,
   "id": "4366651e-4c91-4f24-af17-1eef8d37bf51",
   "metadata": {},
   "outputs": [
    {
     "name": "stdout",
     "output_type": "stream",
     "text": [
      "name\n",
      "+---+---------------------+------------------+\n",
      "| id|source Column<'name'>|Tgt Column<'name'>|\n",
      "+---+---------------------+------------------+\n",
      "| 94|        Vivien Martin|    Viviend Martin|\n",
      "+---+---------------------+------------------+\n",
      "\n",
      "phone\n",
      "email\n",
      "+---+----------------------+--------------------+\n",
      "| id|source Column<'email'>| Tgt Column<'email'>|\n",
      "+---+----------------------+--------------------+\n",
      "|  1|  risus.a.ultricies...|rissus.a.ultricie...|\n",
      "|  9|  lorem.vitae@hotma...|NULL.vitae@hotmai...|\n",
      "+---+----------------------+--------------------+\n",
      "\n",
      "numberrange\n",
      "+---+----------------------------+-------------------------+\n",
      "| id|source Column<'numberrange'>|Tgt Column<'numberrange'>|\n",
      "+---+----------------------------+-------------------------+\n",
      "| 81|                           8|                     NULL|\n",
      "+---+----------------------------+-------------------------+\n",
      "\n",
      "id\n"
     ]
    }
   ],
   "source": [
    "dc = validate_data(df_src,df_tgt)\n",
    "for k,v in dc.items():\n",
    "    print(\"{}\".format(k))\n",
    "    for i in range(len(dc[k])):\n",
    "        if dc[k][i].count()>0:\n",
    "            dc[k][i].show()"
   ]
  },
  {
   "cell_type": "code",
   "execution_count": null,
   "id": "0942f914-e03a-40bf-9c44-a1c5a23fa0b2",
   "metadata": {},
   "outputs": [],
   "source": []
  }
 ],
 "metadata": {
  "kernelspec": {
   "display_name": "Python 3 (ipykernel)",
   "language": "python",
   "name": "python3"
  },
  "language_info": {
   "codemirror_mode": {
    "name": "ipython",
    "version": 3
   },
   "file_extension": ".py",
   "mimetype": "text/x-python",
   "name": "python",
   "nbconvert_exporter": "python",
   "pygments_lexer": "ipython3",
   "version": "3.11.8"
  }
 },
 "nbformat": 4,
 "nbformat_minor": 5
}
