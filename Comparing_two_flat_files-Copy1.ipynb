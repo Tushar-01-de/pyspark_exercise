{
 "cells": [
  {
   "cell_type": "markdown",
   "id": "4030e191-080b-4fab-9c5e-34102c20128b",
   "metadata": {},
   "source": [
    "Importing Reuired File"
   ]
  },
  {
   "cell_type": "code",
   "execution_count": 69,
   "id": "24d1b882-c911-496b-9b28-4549c25d9f18",
   "metadata": {},
   "outputs": [],
   "source": [
    "from pyspark.sql import SparkSession\n",
    "from pyspark.sql import DataFrame as DF\n",
    "from pyspark.sql import functions as f\n",
    "from pyspark.sql.window import Window\n",
    "from datetime import datetime\n",
    "from pyspark.sql.types import StructType,StructField,StringType,IntegerType\n",
    "import sys,os"
   ]
  },
  {
   "cell_type": "code",
   "execution_count": 70,
   "id": "67f68c68-e717-4dc1-aaa9-8c223f55de4f",
   "metadata": {},
   "outputs": [],
   "source": [
    "sp = SparkSession.builder.appName(\"Test\").getOrCreate()"
   ]
  },
  {
   "cell_type": "markdown",
   "id": "16438078-4748-4b18-a11d-c7d2aa744e1b",
   "metadata": {},
   "source": [
    "Setting datatype for source columns (Manual work)"
   ]
  },
  {
   "cell_type": "code",
   "execution_count": 71,
   "id": "355994fd-a48c-4b8d-9113-7341b2612de6",
   "metadata": {},
   "outputs": [],
   "source": [
    "schema = StructType([\n",
    "    StructField('name',StringType(),True),\n",
    "    StructField('phone',StringType(),True),\n",
    "    StructField('email',StringType(),True),\n",
    "    StructField('numberrange',StringType(),True)\n",
    "])\n"
   ]
  },
  {
   "cell_type": "code",
   "execution_count": 72,
   "id": "868fde52-3ff1-43cc-97da-2524d6065061",
   "metadata": {},
   "outputs": [
    {
     "name": "stdout",
     "output_type": "stream",
     "text": [
      "root\n",
      " |-- name: string (nullable = true)\n",
      " |-- phone: string (nullable = true)\n",
      " |-- email: string (nullable = true)\n",
      " |-- numberrange: string (nullable = true)\n",
      "\n"
     ]
    }
   ],
   "source": [
    "df_src = sp.read.csv(\"./data_scr.csv\",header=True,schema=schema)\n",
    "df_src.printSchema()"
   ]
  },
  {
   "cell_type": "markdown",
   "id": "4160375b-e039-45c1-afbd-f61803d5f2e1",
   "metadata": {},
   "source": [
    "Generating runtime ID column for entire table with combination of columns (Source file)"
   ]
  },
  {
   "cell_type": "code",
   "execution_count": 73,
   "id": "37fb778e-c820-49b9-8e10-3f56a15f17f9",
   "metadata": {},
   "outputs": [],
   "source": [
    "wind = Window().orderBy(df_src.name,df_src.phone,df_src.email)\n",
    "df_src = df_src.withColumn('id',f.row_number().over(wind))"
   ]
  },
  {
   "cell_type": "code",
   "execution_count": 74,
   "id": "94fcded6-1ae9-4069-85f9-75365c75d1c5",
   "metadata": {},
   "outputs": [
    {
     "name": "stdout",
     "output_type": "stream",
     "text": [
      "root\n",
      " |-- name: string (nullable = true)\n",
      " |-- phone: string (nullable = true)\n",
      " |-- email: string (nullable = true)\n",
      " |-- numberrange: string (nullable = true)\n",
      " |-- id: integer (nullable = false)\n",
      "\n",
      "+--------------+--------------+--------------------+-----------+---+\n",
      "|          name|         phone|               email|numberrange| id|\n",
      "+--------------+--------------+--------------------+-----------+---+\n",
      "| Aladdin Simon|1-355-186-8775|risus.a.ultricies...|          0|  1|\n",
      "|   Alec Hinton|(741) 177-1030|hendrerit.consect...|          4|  2|\n",
      "|  Alexa Barker|1-245-418-8957|parturient.montes...|          3|  3|\n",
      "|Alfreda Guerra|(761) 258-5778|aliquam.ultrices....|          0|  4|\n",
      "|Alvin Cummings|(354) 588-7652|eros.proin.ultric...|          2|  5|\n",
      "+--------------+--------------+--------------------+-----------+---+\n",
      "only showing top 5 rows\n",
      "\n"
     ]
    }
   ],
   "source": [
    "df_src.printSchema()\n",
    "df_src.show(5)"
   ]
  },
  {
   "cell_type": "code",
   "execution_count": 75,
   "id": "aa5c2bf0-ba1f-48b5-8ca2-bf286ac30e9c",
   "metadata": {},
   "outputs": [
    {
     "name": "stdout",
     "output_type": "stream",
     "text": [
      "root\n",
      " |-- name: string (nullable = true)\n",
      " |-- phone: string (nullable = true)\n",
      " |-- email: string (nullable = true)\n",
      " |-- numberrange: string (nullable = true)\n",
      "\n"
     ]
    }
   ],
   "source": [
    "df_tgt = sp.read.csv(\"./tgt_data.csv\",header=True,schema=schema)\n",
    "df_tgt.printSchema()"
   ]
  },
  {
   "cell_type": "markdown",
   "id": "3961fd67-811b-4857-85d6-e2a62873e31d",
   "metadata": {},
   "source": [
    "Generating runtime ID column for entire table with combination of columns (Source file)"
   ]
  },
  {
   "cell_type": "code",
   "execution_count": 76,
   "id": "26f1b1c5-ea0f-4675-be71-9b5e29941c25",
   "metadata": {},
   "outputs": [
    {
     "name": "stdout",
     "output_type": "stream",
     "text": [
      "+--------------+--------------+--------------------+-----------+---+\n",
      "|          name|         phone|               email|numberrange| id|\n",
      "+--------------+--------------+--------------------+-----------+---+\n",
      "| Aladdin Simon|1-355-186-8775|rissus.a.ultricie...|          0|  1|\n",
      "|   Alec Hinton|(741) 177-1030|hendrerit.consect...|          4|  2|\n",
      "|  Alexa Barker|1-245-418-8957|parturient.montes...|          3|  3|\n",
      "|Alfreda Guerra|(761) 258-5778|aliquam.ultrices....|          0|  4|\n",
      "|Alvin Cummings|(354) 588-7652|eros.proin.ultric...|          2|  5|\n",
      "+--------------+--------------+--------------------+-----------+---+\n",
      "only showing top 5 rows\n",
      "\n"
     ]
    }
   ],
   "source": [
    "wind = Window().orderBy(df_tgt.name,df_tgt.phone,df_tgt.email)\n",
    "df_tgt = df_tgt.withColumn('id',f.row_number().over(wind))\n",
    "df_tgt.show(5)"
   ]
  },
  {
   "cell_type": "markdown",
   "id": "3fbfd7d5-af06-409d-9c06-b3572da14fc2",
   "metadata": {},
   "source": [
    "Function for existance of columns in both source and target tbl "
   ]
  },
  {
   "cell_type": "code",
   "execution_count": 77,
   "id": "b0efca81-2a70-4d13-b5c0-c2bf4182c26b",
   "metadata": {},
   "outputs": [],
   "source": [
    "def col_check(df1,df2):\n",
    "    return  [i for i in df1.columns if i not in df2.columns]"
   ]
  },
  {
   "cell_type": "code",
   "execution_count": 78,
   "id": "11bc0701-1030-463f-b5e1-69a53b8877ca",
   "metadata": {},
   "outputs": [
    {
     "data": {
      "text/plain": [
       "[]"
      ]
     },
     "execution_count": 78,
     "metadata": {},
     "output_type": "execute_result"
    }
   ],
   "source": [
    "col_check(df_src,df_tgt)\n",
    "col_check(df_tgt,df_src)"
   ]
  },
  {
   "cell_type": "markdown",
   "id": "8401ebf9-fd2b-4dda-9940-b01969800117",
   "metadata": {},
   "source": [
    "Function for column count verification"
   ]
  },
  {
   "cell_type": "code",
   "execution_count": 79,
   "id": "1ed71d43-2148-4c74-97f9-37e40e8d69ff",
   "metadata": {},
   "outputs": [],
   "source": [
    "def count_chk(df1,df2):\n",
    "    return df1.count() == df2.count()"
   ]
  },
  {
   "cell_type": "code",
   "execution_count": 80,
   "id": "76cb9cbc-7eec-4549-b324-2ee2142bef6c",
   "metadata": {},
   "outputs": [
    {
     "data": {
      "text/plain": [
       "True"
      ]
     },
     "execution_count": 80,
     "metadata": {},
     "output_type": "execute_result"
    }
   ],
   "source": [
    "count_chk(df_src,df_tgt)"
   ]
  },
  {
   "cell_type": "markdown",
   "id": "b17cf193-7fdf-4c75-9085-b146b014fff1",
   "metadata": {},
   "source": [
    "Function for row count verification between source and target"
   ]
  },
  {
   "cell_type": "code",
   "execution_count": 81,
   "id": "b1d08643-c423-4edf-a023-7b7ed117f2f0",
   "metadata": {},
   "outputs": [],
   "source": [
    "def verify_count(col_s,col_t,df_s,df_t,PK_s,PK_t):\n",
    "    l=[]\n",
    "    for c in zip(PK_s,PK_t) :\n",
    "        l.append(df_s[c[0]] == df_t[c[1]])\n",
    "    if len(l) == 2:\n",
    "        con = l[0] & l[1]\n",
    "    elif len(l) == 3 :\n",
    "        con = l[0] & l[1] & l[2]\n",
    "    else : con = l[0]\n",
    "    #print(con)    \n",
    "    df = df_s.join(df_t,con,'inner')\\\n",
    "        .agg(\n",
    "            f.sum(f.when(col_s.isNull() & col_t.isNull(),1).otherwise(0)).alias('Both Null'),\\\n",
    "            f.sum(f.when(col_s.isNull() & col_t.isNotNull(),1).otherwise(0)).alias('s Null t not null'),\\\n",
    "            f.sum(f.when(col_s.isNotNull() & col_t.isNull(),1).otherwise(0)).alias('s not Null t null'),\\\n",
    "            f.sum(f.when(col_s == col_t ,1).otherwise(0)).alias('match'),\\\n",
    "            f.sum(f.when(col_s != col_t ,1).otherwise(0)).alias('mismatch')\n",
    "            )\n",
    "    return df"
   ]
  },
  {
   "cell_type": "markdown",
   "id": "84ee2515-b847-462d-86a1-8de6d7845986",
   "metadata": {},
   "source": [
    "Function for validate counts output (Adding list of primary key ,Manual task)"
   ]
  },
  {
   "cell_type": "code",
   "execution_count": 82,
   "id": "fd20fdfd-1ee9-44c9-9ffb-7a840400eea0",
   "metadata": {},
   "outputs": [],
   "source": [
    "def validate_count(df_s,df_tgt):\n",
    "    for cols in df_s.columns:\n",
    "        print(cols)\n",
    "        verify_count(df_s[cols],df_tgt[cols],df_s,df_tgt,PK_s=['id'],PK_t=['id']).show()\n",
    "        #.write.option(\"header\",True).mode(\"append\").csv(\"./op1.csv\")\n",
    "        \n",
    "        "
   ]
  },
  {
   "cell_type": "code",
   "execution_count": 83,
   "id": "39b151e2-1ad8-4a97-bba9-13b866caea3a",
   "metadata": {},
   "outputs": [
    {
     "name": "stdout",
     "output_type": "stream",
     "text": [
      "name\n",
      "+---------+-----------------+-----------------+-----+--------+\n",
      "|Both Null|s Null t not null|s not Null t null|match|mismatch|\n",
      "+---------+-----------------+-----------------+-----+--------+\n",
      "|        0|                0|                0|   99|       1|\n",
      "+---------+-----------------+-----------------+-----+--------+\n",
      "\n",
      "phone\n",
      "+---------+-----------------+-----------------+-----+--------+\n",
      "|Both Null|s Null t not null|s not Null t null|match|mismatch|\n",
      "+---------+-----------------+-----------------+-----+--------+\n",
      "|        0|                0|                0|  100|       0|\n",
      "+---------+-----------------+-----------------+-----+--------+\n",
      "\n",
      "email\n",
      "+---------+-----------------+-----------------+-----+--------+\n",
      "|Both Null|s Null t not null|s not Null t null|match|mismatch|\n",
      "+---------+-----------------+-----------------+-----+--------+\n",
      "|        0|                0|                0|   98|       2|\n",
      "+---------+-----------------+-----------------+-----+--------+\n",
      "\n",
      "numberrange\n",
      "+---------+-----------------+-----------------+-----+--------+\n",
      "|Both Null|s Null t not null|s not Null t null|match|mismatch|\n",
      "+---------+-----------------+-----------------+-----+--------+\n",
      "|        0|                0|                0|   99|       1|\n",
      "+---------+-----------------+-----------------+-----+--------+\n",
      "\n",
      "id\n",
      "+---------+-----------------+-----------------+-----+--------+\n",
      "|Both Null|s Null t not null|s not Null t null|match|mismatch|\n",
      "+---------+-----------------+-----------------+-----+--------+\n",
      "|        0|                0|                0|  100|       0|\n",
      "+---------+-----------------+-----------------+-----+--------+\n",
      "\n"
     ]
    }
   ],
   "source": [
    "validate_count(df_src,df_tgt)"
   ]
  },
  {
   "cell_type": "markdown",
   "id": "369a3b8c-0cb4-4b73-81b5-f07a7f68e860",
   "metadata": {},
   "source": [
    "Function for row level data verification between source and target"
   ]
  },
  {
   "cell_type": "code",
   "execution_count": 84,
   "id": "d66d25c3-695d-41c6-848b-037a44ee3c68",
   "metadata": {},
   "outputs": [],
   "source": [
    "def verify_data(col_s,col_t,df_s,df_t,PK_s,PK_t):\n",
    "    l=[]\n",
    "    for c in zip(PK_s,PK_t) :\n",
    "        l.append(df_s[c[0]] == df_t[c[1]])\n",
    "    if len(l) == 2:\n",
    "        con = l[0] & l[1]\n",
    "    elif len(l) == 3 :\n",
    "        con = l[0] & l[1] & l[2]\n",
    "    else : con = l[0]\n",
    "    #print(con)    \n",
    "    df_Mismatch = df_s.join(df_t,con,'inner')\\\n",
    "            .where(col_s != col_t)\\\n",
    "            .select(df_t[PK_s[0]],col_s.alias(\"source \"+ str(col_s)),col_t.alias(\"Tgt \"+ str(col_s)))\n",
    "    \n",
    "    df_s_null_t_not_null = df_s.join(df_t,con,'inner')\\\n",
    "            .where(col_s.isNull() & col_t.isNotNull())\\\n",
    "            .select(df_t[PK_s[0]],col_s.alias(\"source \"+ str(col_s)),col_t.alias(\"Tgt \"+ str(col_s)))\n",
    "    \n",
    "    df_s_not_null_t_null = df_s.join(df_t,con,'inner')\\\n",
    "            .where(col_s.isNotNull() & col_t.isNull())\\\n",
    "            .select(df_t[PK_s[0]],col_s.alias(\"source \"+ str(col_s)),col_t.alias(\"Tgt \"+ str(col_s)))\n",
    "            \n",
    "    return df_Mismatch,df_s_null_t_not_null,df_s_not_null_t_null"
   ]
  },
  {
   "cell_type": "markdown",
   "id": "e175e951-c58a-4254-9125-d55bb7838707",
   "metadata": {},
   "source": [
    "Function for validate row level output (Adding list of primary key ,Manual task)"
   ]
  },
  {
   "cell_type": "code",
   "execution_count": 85,
   "id": "1b28e073-e0b0-4e1c-b7a9-c1b3c139ac4d",
   "metadata": {},
   "outputs": [],
   "source": [
    "def validate_data(df_s,df_tgt):\n",
    "    dict_df={}\n",
    "    for index,cols in enumerate(df_s.columns):\n",
    "        #print(cols)\n",
    "        dict_df[cols]=verify_data(df_s[cols],df_tgt[cols],df_s,df_tgt,PK_s=['id'],PK_t=['id'])\n",
    "    return dict_df"
   ]
  },
  {
   "cell_type": "markdown",
   "id": "36a6977f-3405-4323-a64a-c82b31cd8d8a",
   "metadata": {},
   "source": [
    "stored multiple df from above function inside a dictionary and read them one by one"
   ]
  },
  {
   "cell_type": "code",
   "execution_count": 86,
   "id": "4366651e-4c91-4f24-af17-1eef8d37bf51",
   "metadata": {},
   "outputs": [
    {
     "name": "stdout",
     "output_type": "stream",
     "text": [
      "name\n",
      "+---+---------------------+------------------+\n",
      "| id|source Column<'name'>|Tgt Column<'name'>|\n",
      "+---+---------------------+------------------+\n",
      "| 94|        Vivien Martin|    Viviend Martin|\n",
      "+---+---------------------+------------------+\n",
      "\n",
      "phone\n",
      "email\n",
      "+---+----------------------+--------------------+\n",
      "| id|source Column<'email'>| Tgt Column<'email'>|\n",
      "+---+----------------------+--------------------+\n",
      "|  1|  risus.a.ultricies...|rissus.a.ultricie...|\n",
      "|  9|  lorem.vitae@hotma...|NULL.vitae@hotmai...|\n",
      "+---+----------------------+--------------------+\n",
      "\n",
      "numberrange\n",
      "+---+----------------------------+-------------------------+\n",
      "| id|source Column<'numberrange'>|Tgt Column<'numberrange'>|\n",
      "+---+----------------------------+-------------------------+\n",
      "| 81|                           8|                     NULL|\n",
      "+---+----------------------------+-------------------------+\n",
      "\n",
      "id\n"
     ]
    }
   ],
   "source": [
    "dc = validate_data(df_src,df_tgt)\n",
    "for k,v in dc.items():\n",
    "    print(\"{}\".format(k))\n",
    "    for i in range(len(dc[k])):\n",
    "        if dc[k][i].count()>0:\n",
    "            dc[k][i].show()"
   ]
  },
  {
   "cell_type": "code",
   "execution_count": null,
   "id": "0942f914-e03a-40bf-9c44-a1c5a23fa0b2",
   "metadata": {},
   "outputs": [],
   "source": []
  }
 ],
 "metadata": {
  "kernelspec": {
   "display_name": "Python 3 (ipykernel)",
   "language": "python",
   "name": "python3"
  },
  "language_info": {
   "codemirror_mode": {
    "name": "ipython",
    "version": 3
   },
   "file_extension": ".py",
   "mimetype": "text/x-python",
   "name": "python",
   "nbconvert_exporter": "python",
   "pygments_lexer": "ipython3",
   "version": "3.11.8"
  }
 },
 "nbformat": 4,
 "nbformat_minor": 5
}
