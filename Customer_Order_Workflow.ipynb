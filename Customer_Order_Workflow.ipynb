{
 "cells": [
  {
   "cell_type": "code",
   "execution_count": 24,
   "id": "f24a0665-476c-40e9-b9c3-62f1b4604518",
   "metadata": {},
   "outputs": [],
   "source": [
    "from pyspark.sql import SparkSession\n",
    "from pyspark.sql import functions as f\n",
    "from pyspark.sql.window import Window as w\n",
    "from pyspark.sql.types import IntegerType, BooleanType, DateType"
   ]
  },
  {
   "cell_type": "code",
   "execution_count": 2,
   "id": "db6170f8-c806-4134-b565-f3bf71eb5ca0",
   "metadata": {},
   "outputs": [],
   "source": [
    "spark = SparkSession.builder.appName('test').getOrCreate()"
   ]
  },
  {
   "cell_type": "code",
   "execution_count": 3,
   "id": "1f12af02-fcb7-4cce-8f47-30ab6f79be62",
   "metadata": {},
   "outputs": [
    {
     "name": "stdout",
     "output_type": "stream",
     "text": [
      "+--------+---+\n",
      "|    Name|Age|\n",
      "+--------+---+\n",
      "|  Tushar| 30|\n",
      "|Vaishali| 29|\n",
      "+--------+---+\n",
      "\n"
     ]
    }
   ],
   "source": [
    "df= spark.createDataFrame([\n",
    "(\"Tushar\",30),\n",
    "(\"Vaishali\",29)\n",
    "],[\"Name\",\"Age\"])\n",
    "\n",
    "df.show()"
   ]
  },
  {
   "cell_type": "markdown",
   "id": "42b82c80-b141-4393-a90c-fd4ced187691",
   "metadata": {},
   "source": [
    "# Customer Data"
   ]
  },
  {
   "cell_type": "code",
   "execution_count": 5,
   "id": "b5db0c20-06c2-416d-bec2-d8d7120381da",
   "metadata": {},
   "outputs": [
    {
     "name": "stdout",
     "output_type": "stream",
     "text": [
      "+----+-------------+------+------+----------------+\n",
      "|  id|         name|  city|   pin|           email|\n",
      "+----+-------------+------+------+----------------+\n",
      "|1001|Vikas Bhosale|Mumbai|426075|     v@gmail.com|\n",
      "|1432| Sahil Kharat|Nagpur| 45234| Sahil@ymail.com|\n",
      "|1021|      Ram Dev|  Pune| 41108|                |\n",
      "|3021|Akshay Abhale| Akole| 45234|Akshay@gmail.com|\n",
      "|1801| Jitesh Varma|Mumbai|  NULL|  jitu@gmail.com|\n",
      "+----+-------------+------+------+----------------+\n",
      "\n"
     ]
    }
   ],
   "source": [
    "df_cust = spark.createDataFrame(\n",
    "    [(1001,'Vikas Bhosale','Mumbai',426075,'v@gmail.com'),\n",
    "     (1432,'Sahil Kharat','Nagpur',45234,'Sahil@ymail.com'),\n",
    "     (1021,'Ram Dev','Pune',41108,''),\n",
    "     (3021,'Akshay Abhale','Akole',45234,'Akshay@gmail.com'),\n",
    "     (1801,'Jitesh Varma','Mumbai',None,'jitu@gmail.com'),\n",
    "    ],\n",
    "    ['id','name','city','pin','email']\n",
    ")\n",
    "\n",
    "df_cust.show()"
   ]
  },
  {
   "cell_type": "code",
   "execution_count": 6,
   "id": "7cc9775a-2a52-4822-a870-2341e968c526",
   "metadata": {},
   "outputs": [
    {
     "name": "stdout",
     "output_type": "stream",
     "text": [
      "+----+-------+----+-----+\n",
      "|  id|   name|city|  pin|\n",
      "+----+-------+----+-----+\n",
      "|1021|Ram Dev|Pune|41108|\n",
      "+----+-------+----+-----+\n",
      "\n",
      "+------+-----+\n",
      "|  city|count|\n",
      "+------+-----+\n",
      "|Mumbai|    2|\n",
      "|Nagpur|    1|\n",
      "|  Pune|    1|\n",
      "| Akole|    1|\n",
      "+------+-----+\n",
      "\n"
     ]
    }
   ],
   "source": [
    "df_cust.drop('email')\\\n",
    ".where(\"email=''\")\\\n",
    ".show()\n",
    "\n",
    "df_cust.groupBy('city')\\\n",
    ".count()\\\n",
    ".orderBy('count',ascending=False)\\\n",
    ".show()"
   ]
  },
  {
   "cell_type": "code",
   "execution_count": 44,
   "id": "8b92d763-5f53-4a4a-8f01-9552c3e31394",
   "metadata": {},
   "outputs": [
    {
     "name": "stdout",
     "output_type": "stream",
     "text": [
      "+---------+--------+\n",
      "|pin total|max(pin)|\n",
      "+---------+--------+\n",
      "|   557651|  426075|\n",
      "+---------+--------+\n",
      "\n"
     ]
    }
   ],
   "source": [
    "df_cust.agg(f.sum(df_cust.pin).alias('pin total'),\\\n",
    "            f.max('pin'))\\\n",
    ".show()"
   ]
  },
  {
   "cell_type": "markdown",
   "id": "819f225a-72e6-4b2b-b119-462c9d9da7ff",
   "metadata": {},
   "source": [
    "# Adding one more column to existing table"
   ]
  },
  {
   "cell_type": "code",
   "execution_count": 7,
   "id": "fe192c0d-7a1e-46cd-8a93-f0110764fc00",
   "metadata": {},
   "outputs": [
    {
     "name": "stdout",
     "output_type": "stream",
     "text": [
      "+----+-------------+------+------+----------------+---+\n",
      "|  id|         name|  city|   pin|           email|gen|\n",
      "+----+-------------+------+------+----------------+---+\n",
      "|1001|Vikas Bhosale|Mumbai|426075|     v@gmail.com|  M|\n",
      "|1432| Sahil Kharat|Nagpur| 45234| Sahil@ymail.com|  M|\n",
      "|1021|      Ram Dev|  Pune| 41108|                |  M|\n",
      "|3021|Akshay Abhale| Akole| 45234|Akshay@gmail.com|  M|\n",
      "|1801| Jitesh Varma|Mumbai|  NULL|  jitu@gmail.com|  M|\n",
      "+----+-------------+------+------+----------------+---+\n",
      "\n"
     ]
    }
   ],
   "source": [
    "df_cust = df_cust.withColumn('gen',f.lit('M'))\n",
    "df_cust.show()"
   ]
  },
  {
   "cell_type": "code",
   "execution_count": 9,
   "id": "8edd0d7f-4730-4982-836b-d11053965021",
   "metadata": {},
   "outputs": [
    {
     "name": "stdout",
     "output_type": "stream",
     "text": [
      "+----+--------------+------+------+---------------+------+\n",
      "|  id|          name|  city|   pin|          email|   gen|\n",
      "+----+--------------+------+------+---------------+------+\n",
      "|3412|   Neha Sharma|Nashik|543412| neha@tmsil.com|Female|\n",
      "|2534|Vaishali Shete| Akole| 45234|vaish@gmail.com|  Fema|\n",
      "+----+--------------+------+------+---------------+------+\n",
      "\n"
     ]
    }
   ],
   "source": [
    "values = [(3412,'Neha Sharma','Nashik',543412,'neha@tmsil.com','Female'),\\\n",
    "          (2534,'Vaishali Shete','Akole',45234,'vaish@gmail.com','Fema')]\n",
    "cols = ['id','name','city','pin','email','gen']\n",
    "df_add = spark.createDataFrame(values,cols)\n",
    "df_add.show()"
   ]
  },
  {
   "cell_type": "markdown",
   "id": "1bab33bc-79cb-4eb8-b91a-4fb74d729205",
   "metadata": {},
   "source": [
    "# Merging two tables "
   ]
  },
  {
   "cell_type": "code",
   "execution_count": 12,
   "id": "90f9249e-ef56-401a-83ae-b12c3a1ca674",
   "metadata": {},
   "outputs": [],
   "source": [
    "df_cust = df_cust.union(df_add)"
   ]
  },
  {
   "cell_type": "code",
   "execution_count": 30,
   "id": "a1dfefde-f895-4bb5-bdf4-fa6f810ac2c0",
   "metadata": {},
   "outputs": [
    {
     "name": "stdout",
     "output_type": "stream",
     "text": [
      "+----+--------------+------+------+----------------+---+\n",
      "|  id|          name|  city|   pin|           email|gen|\n",
      "+----+--------------+------+------+----------------+---+\n",
      "|1001| Vikas Bhosale|Mumbai|426075|     v@gmail.com|  M|\n",
      "|1021|       Ram Dev|  Pune| 41108|                |  M|\n",
      "|1432|  Sahil Kharat|Nagpur| 45234| Sahil@ymail.com|  M|\n",
      "|1801|  Jitesh Varma|Mumbai|  NULL|  jitu@gmail.com|  M|\n",
      "|2534|Vaishali Shete| Akole| 45234| vaish@gmail.com|  F|\n",
      "|3021| Akshay Abhale| Akole| 45234|Akshay@gmail.com|  M|\n",
      "|3412|   Neha Sharma|Nashik|543412|  neha@tmsil.com|  F|\n",
      "+----+--------------+------+------+----------------+---+\n",
      "\n"
     ]
    }
   ],
   "source": [
    "df_cust = df_cust.withColumn('gen',f.when(df_cust.gen.like('F%'),'F')\\\n",
    "                             .otherwise(df_cust.gen))\n",
    "df_cust.show()"
   ]
  },
  {
   "cell_type": "code",
   "execution_count": 31,
   "id": "c91f196b-c626-4e03-b790-61a3550a2192",
   "metadata": {},
   "outputs": [],
   "source": [
    "# Remove duplicate in case required"
   ]
  },
  {
   "cell_type": "code",
   "execution_count": 29,
   "id": "52c79dfe-1c75-4c53-9b55-9c8759e12e38",
   "metadata": {},
   "outputs": [
    {
     "name": "stdout",
     "output_type": "stream",
     "text": [
      "+----+--------------+------+------+----------------+---+\n",
      "|  id|          name|  city|   pin|           email|gen|\n",
      "+----+--------------+------+------+----------------+---+\n",
      "|1001| Vikas Bhosale|Mumbai|426075|     v@gmail.com|  M|\n",
      "|1021|       Ram Dev|  Pune| 41108|                |  M|\n",
      "|1432|  Sahil Kharat|Nagpur| 45234| Sahil@ymail.com|  M|\n",
      "|1801|  Jitesh Varma|Mumbai|  NULL|  jitu@gmail.com|  M|\n",
      "|2534|Vaishali Shete| Akole| 45234| vaish@gmail.com|  F|\n",
      "|3021| Akshay Abhale| Akole| 45234|Akshay@gmail.com|  M|\n",
      "|3412|   Neha Sharma|Nashik|543412|  neha@tmsil.com|  F|\n",
      "+----+--------------+------+------+----------------+---+\n",
      "\n"
     ]
    }
   ],
   "source": [
    "wdwPart = w.partitionBy('id','name').orderBy('id')\n",
    "df_cust = df_cust.withColumn('row',f.row_number().over(wdwPart))\\\n",
    "            .where(f.col('row')==1)\\\n",
    "            .drop(f.col('row'))\n",
    "df_cust.show()"
   ]
  },
  {
   "cell_type": "code",
   "execution_count": null,
   "id": "26b7a4b8-1aa3-4fd0-92d6-7f8f5d2cf8bb",
   "metadata": {},
   "outputs": [],
   "source": [
    "# Created order table df"
   ]
  },
  {
   "cell_type": "code",
   "execution_count": 32,
   "id": "69097b84-46ac-4da0-aeba-b9101434dfcf",
   "metadata": {},
   "outputs": [
    {
     "name": "stdout",
     "output_type": "stream",
     "text": [
      "+-------+----------+---+-------+\n",
      "|OrderId| OrderDate|Qty|Product|\n",
      "+-------+----------+---+-------+\n",
      "|    342|2021-09-12| 23|      1|\n",
      "|     23|2020-02-21|  2|      4|\n",
      "|     42|2014-08-02| 23|      3|\n",
      "|      2|2022-06-23|  3|      1|\n",
      "|     76|2001-01-10| 56|      7|\n",
      "|    567|2021-08-18| 24|      6|\n",
      "|      9|2012-05-13|  7|      2|\n",
      "|     25|2023-06-22|230|      2|\n",
      "|     56|2016-01-01| 13|      5|\n",
      "+-------+----------+---+-------+\n",
      "\n"
     ]
    }
   ],
   "source": [
    "cols = ['OrderId','OrderDate','Qty','Product']\n",
    "values = [(342,'2021-09-12',23,1),\n",
    "          (23,'2020-02-21',2,4),\n",
    "          (42,'2014-08-02',23,3),\n",
    "          (2,'2022-06-23',3,1),\n",
    "          (76,'2001-01-10',56,7),\n",
    "          (567,'2021-08-18',24,6),\n",
    "          (9,'2012-05-13',7,2),\n",
    "          (25,'2023-06-22',230,2),\n",
    "          (56,'2016-01-01',13,5)\n",
    "         ]\n",
    "df_order = spark.createDataFrame(values,cols)\n",
    "df_order.show()"
   ]
  },
  {
   "cell_type": "code",
   "execution_count": null,
   "id": "69138cd6-0991-48e0-8abc-8240516c5ac4",
   "metadata": {},
   "outputs": [],
   "source": [
    "# Product table df"
   ]
  },
  {
   "cell_type": "code",
   "execution_count": 33,
   "id": "11d9e3cd-254f-43b6-a4b1-81e6adc8fd08",
   "metadata": {},
   "outputs": [
    {
     "name": "stdout",
     "output_type": "stream",
     "text": [
      "+---------+-----------+\n",
      "|ProductId|ProductName|\n",
      "+---------+-----------+\n",
      "|        1|        USB|\n",
      "|        2|     Mobile|\n",
      "|        3|  Headphone|\n",
      "|        4|      Mouse|\n",
      "|        5|   Pendrive|\n",
      "|        6|     Camera|\n",
      "|        7|    Battery|\n",
      "|        8|      Cover|\n",
      "|        9|    Charger|\n",
      "|       10|      Lense|\n",
      "+---------+-----------+\n",
      "\n"
     ]
    }
   ],
   "source": [
    "cols = ['ProductId','ProductName']\n",
    "values = [(1,'USB'),\n",
    "          (2,'Mobile'),\n",
    "          (3,'Headphone'),\n",
    "          (4,'Mouse'),\n",
    "          (5,'Pendrive'),\n",
    "          (6,'Camera'),\n",
    "          (7,'Battery'),\n",
    "          (8,'Cover'),\n",
    "          (9,'Charger'),\n",
    "          (10,'Lense')\n",
    "]\n",
    "df_prdt = spark.createDataFrame(values,cols)\n",
    "df_prdt.show()"
   ]
  },
  {
   "cell_type": "code",
   "execution_count": null,
   "id": "69b301fd-7098-4d03-850a-8949950562f2",
   "metadata": {},
   "outputs": [],
   "source": [
    "# Joining the product and order table "
   ]
  },
  {
   "cell_type": "code",
   "execution_count": 34,
   "id": "68c7e0e5-611a-4a9c-aca4-bd9577b28428",
   "metadata": {},
   "outputs": [
    {
     "name": "stdout",
     "output_type": "stream",
     "text": [
      "+-------+-----------+---+\n",
      "|OrderId|ProductName|Qty|\n",
      "+-------+-----------+---+\n",
      "|    342|        USB| 23|\n",
      "|      2|        USB|  3|\n",
      "|      9|     Mobile|  7|\n",
      "|     25|     Mobile|230|\n",
      "|     42|  Headphone| 23|\n",
      "|     23|      Mouse|  2|\n",
      "|     56|   Pendrive| 13|\n",
      "|    567|     Camera| 24|\n",
      "|     76|    Battery| 56|\n",
      "+-------+-----------+---+\n",
      "\n"
     ]
    }
   ],
   "source": [
    "df_order.join(df_prdt,df_order.Product == df_prdt.ProductId , 'inner')\\\n",
    "        .select('OrderId','ProductName','Qty')\\\n",
    "        .show()"
   ]
  },
  {
   "cell_type": "code",
   "execution_count": 36,
   "id": "a540e1d2-6e5b-41dd-95e6-d14d58b39fdb",
   "metadata": {},
   "outputs": [
    {
     "name": "stdout",
     "output_type": "stream",
     "text": [
      "+-----------+---------+\n",
      "|ProductName|Total Qty|\n",
      "+-----------+---------+\n",
      "|  Headphone|       23|\n",
      "|   Pendrive|       13|\n",
      "|      Mouse|        2|\n",
      "|     Camera|       24|\n",
      "|     Mobile|      237|\n",
      "|        USB|       26|\n",
      "|    Battery|       56|\n",
      "+-----------+---------+\n",
      "\n"
     ]
    }
   ],
   "source": [
    "df_order.join(df_prdt,df_order.Product == df_prdt.ProductId , 'inner')\\\n",
    ".select('ProductName','Qty')\\\n",
    ".groupby('ProductName')\\\n",
    ".agg(f.sum('Qty').alias(\"Total Qty\"))\\\n",
    ".show()"
   ]
  },
  {
   "cell_type": "code",
   "execution_count": 37,
   "id": "0be3854f-595c-4e85-9684-471df73139a3",
   "metadata": {},
   "outputs": [
    {
     "name": "stdout",
     "output_type": "stream",
     "text": [
      "+-------+----------+---+-------+\n",
      "|OrderId| OrderDate|Qty|Product|\n",
      "+-------+----------+---+-------+\n",
      "|    342|2021-09-12| 23|      1|\n",
      "|     23|2020-02-21|  2|      4|\n",
      "|     42|2014-08-02| 23|      3|\n",
      "|      2|2022-06-23|  3|      1|\n",
      "|     76|2001-01-10| 56|      7|\n",
      "|    567|2021-08-18| 24|      6|\n",
      "|      9|2012-05-13|  7|      2|\n",
      "|     25|2023-06-22|230|      2|\n",
      "|     56|2016-01-01| 13|      5|\n",
      "+-------+----------+---+-------+\n",
      "\n"
     ]
    }
   ],
   "source": [
    "df_order = df_order.withColumn('OrderDate',f.col('OrderDate').astype('date'))\n",
    "df_order.show()"
   ]
  },
  {
   "cell_type": "code",
   "execution_count": null,
   "id": "ad6b7901-92d1-4491-b9c1-36e4ecc80365",
   "metadata": {},
   "outputs": [],
   "source": [
    "# Creating customer-order link table"
   ]
  },
  {
   "cell_type": "code",
   "execution_count": 38,
   "id": "65567b6c-bc66-474c-a480-7dafc982abd3",
   "metadata": {
    "scrolled": true
   },
   "outputs": [
    {
     "name": "stdout",
     "output_type": "stream",
     "text": [
      "+----+----+\n",
      "|c_id|o_id|\n",
      "+----+----+\n",
      "|3021|  23|\n",
      "|1001|  42|\n",
      "|3412|  56|\n",
      "|1801|   2|\n",
      "|2534|  25|\n",
      "|1021| 567|\n",
      "+----+----+\n",
      "\n"
     ]
    }
   ],
   "source": [
    "values = [ (3021,23),(1001,42),(3412,56),(1801,2),(2534,25),(1021,567)]\n",
    "cols = ['c_id','o_id']\n",
    "df_cust_order = spark.createDataFrame(values,cols)\n",
    "df_cust_order.show()"
   ]
  },
  {
   "cell_type": "code",
   "execution_count": 43,
   "id": "ee727945-1d59-42cd-8edc-984cf9e98c01",
   "metadata": {
    "scrolled": true
   },
   "outputs": [
    {
     "name": "stdout",
     "output_type": "stream",
     "text": [
      "+-------+----------+---+-------+----+\n",
      "|OrderId| OrderDate|Qty|Product|c_id|\n",
      "+-------+----------+---+-------+----+\n",
      "|    342|2021-09-12| 23|      1|NULL|\n",
      "|     23|2020-02-21|  2|      4|3021|\n",
      "|      2|2022-06-23|  3|      1|1801|\n",
      "|     42|2014-08-02| 23|      3|1001|\n",
      "|    567|2021-08-18| 24|      6|1021|\n",
      "|     76|2001-01-10| 56|      7|NULL|\n",
      "|     25|2023-06-22|230|      2|2534|\n",
      "|      9|2012-05-13|  7|      2|NULL|\n",
      "|     56|2016-01-01| 13|      5|3412|\n",
      "+-------+----------+---+-------+----+\n",
      "\n"
     ]
    }
   ],
   "source": [
    "df_order = df_order.join(df_cust_order,df_cust_order.o_id == df_order.OrderId,'leftouter').drop('o_id')\n",
    "df_order.show()"
   ]
  },
  {
   "cell_type": "code",
   "execution_count": 44,
   "id": "b90b9828-4794-440f-b80b-b0f99123ff78",
   "metadata": {},
   "outputs": [
    {
     "name": "stdout",
     "output_type": "stream",
     "text": [
      "root\n",
      " |-- OrderId: long (nullable = true)\n",
      " |-- OrderDate: date (nullable = true)\n",
      " |-- Qty: long (nullable = true)\n",
      " |-- Product: long (nullable = true)\n",
      " |-- cust_id: long (nullable = true)\n",
      "\n"
     ]
    }
   ],
   "source": [
    "df_order = df_order.withColumnRenamed('c_id','cust_id')\n",
    "df_order.printSchema()"
   ]
  },
  {
   "cell_type": "code",
   "execution_count": null,
   "id": "7fcd357d-bf35-45e8-b09b-ac8dc15859ce",
   "metadata": {},
   "outputs": [],
   "source": [
    "# Creatring table for product stock details"
   ]
  },
  {
   "cell_type": "code",
   "execution_count": 46,
   "id": "81c729a9-24cb-44f4-a98d-b5ce90e27249",
   "metadata": {},
   "outputs": [
    {
     "name": "stdout",
     "output_type": "stream",
     "text": [
      "+------+----+-----+\n",
      "|stk_id|p_id|stock|\n",
      "+------+----+-----+\n",
      "|     1|   1|   34|\n",
      "|     2|   4|   56|\n",
      "|     3|   2|   21|\n",
      "|     4|   3|  897|\n",
      "|     5|   8|   27|\n",
      "|     6|   3|   23|\n",
      "|     7|   4|   21|\n",
      "+------+----+-----+\n",
      "\n"
     ]
    }
   ],
   "source": [
    "value = [(1,1,34),(2,4,56),(3,2,21),(4,3,897),(5,8,27),(6,3,23),(7,4,21)]\n",
    "col = ['stk_id','p_id','stock']\n",
    "df_stock = spark.createDataFrame(value,col)\n",
    "df_stock.show()"
   ]
  },
  {
   "cell_type": "code",
   "execution_count": 47,
   "id": "cc6bdebb-8d81-4f41-9dc9-0f4cc8beb77f",
   "metadata": {
    "scrolled": true
   },
   "outputs": [
    {
     "name": "stdout",
     "output_type": "stream",
     "text": [
      "+-------+--------------+-------+-----------+---+-----+\n",
      "|cust_id|          name|OrderId|ProductName|Qty|stock|\n",
      "+-------+--------------+-------+-----------+---+-----+\n",
      "|   2534|Vaishali Shete|     25|     Mobile|230|   21|\n",
      "|   1021|       Ram Dev|    567|     Camera| 24|    0|\n",
      "|   1001| Vikas Bhosale|     42|  Headphone| 23|  920|\n",
      "|   3412|   Neha Sharma|     56|   Pendrive| 13|    0|\n",
      "|   1801|  Jitesh Varma|      2|        USB|  3|   34|\n",
      "|   3021| Akshay Abhale|     23|      Mouse|  2|   77|\n",
      "+-------+--------------+-------+-----------+---+-----+\n",
      "\n"
     ]
    }
   ],
   "source": [
    "df_cust.join(df_order,\n",
    "             df_order.cust_id == df_cust.id,\n",
    "             'inner')\\\n",
    "        .join(df_prdt,\n",
    "              df_order.Product==df_prdt.ProductId,\n",
    "              'inner')\\\n",
    "        .join(df_stock,\n",
    "              df_prdt.ProductId == df_stock.p_id,\n",
    "              'leftouter')\\\n",
    ".groupBy('cust_id','name','OrderId','ProductName','Qty')\\\n",
    ".agg(f.sum('stock').alias('stock'))\\\n",
    ".select('cust_id','name','OrderId','ProductName','Qty',f.ifnull(f.col('stock'),f.lit(0)).alias('stock'))\\\n",
    ".orderBy('Qty',ascending=False)\\\n",
    ".show()"
   ]
  },
  {
   "cell_type": "code",
   "execution_count": null,
   "id": "5eb08cb0-5639-4b83-a442-e32b9e7f2f62",
   "metadata": {},
   "outputs": [],
   "source": []
  }
 ],
 "metadata": {
  "kernelspec": {
   "display_name": "Python 3 (ipykernel)",
   "language": "python",
   "name": "python3"
  },
  "language_info": {
   "codemirror_mode": {
    "name": "ipython",
    "version": 3
   },
   "file_extension": ".py",
   "mimetype": "text/x-python",
   "name": "python",
   "nbconvert_exporter": "python",
   "pygments_lexer": "ipython3",
   "version": "3.11.8"
  }
 },
 "nbformat": 4,
 "nbformat_minor": 5
}
