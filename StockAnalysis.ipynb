{
 "cells": [
  {
   "cell_type": "markdown",
   "id": "81445e6e-7c12-458b-8c53-4f989aeb1ac0",
   "metadata": {},
   "source": [
    "Import Required Package"
   ]
  },
  {
   "cell_type": "code",
   "execution_count": 106,
   "id": "3e433a40-ca93-4f75-9b78-aa967cb1b83b",
   "metadata": {},
   "outputs": [],
   "source": [
    "from pyspark.sql import SparkSession,functions  as f\n",
    "from pyspark.sql.window import Window as w"
   ]
  },
  {
   "cell_type": "markdown",
   "id": "d33ec4fa-f1f1-48e0-86a4-7348067f1bf5",
   "metadata": {},
   "source": [
    "Create SparkSession obj "
   ]
  },
  {
   "cell_type": "code",
   "execution_count": 3,
   "id": "8d5f0c34-c0b7-40ba-a7d6-2843d0610f8c",
   "metadata": {},
   "outputs": [],
   "source": [
    "sp= SparkSession.builder.appName(\"Test\").getOrCreate()"
   ]
  },
  {
   "cell_type": "markdown",
   "id": "aa331239-39a4-409f-bdd9-3823b137364e",
   "metadata": {},
   "source": [
    "Read required files in Dataframe"
   ]
  },
  {
   "cell_type": "code",
   "execution_count": 26,
   "id": "a4466f6f-b7ae-42c5-b7fe-88e2b1cc0eb4",
   "metadata": {},
   "outputs": [],
   "source": [
    "df_stock_companies = sp.read.option(\"inferSchema\",\"true\").option(\"header\",\"true\").csv(\".\\Jupyter_Projects\\Stockcompanies.csv\")"
   ]
  },
  {
   "cell_type": "code",
   "execution_count": 35,
   "id": "74a94c23-b0b9-4b71-8383-269bab499e36",
   "metadata": {},
   "outputs": [
    {
     "name": "stdout",
     "output_type": "stream",
     "text": [
      "root\n",
      " |-- Ticker_symbol: string (nullable = true)\n",
      " |-- Security: string (nullable = true)\n",
      " |-- Sector: string (nullable = true)\n",
      " |-- Sub_Industry: string (nullable = true)\n",
      " |-- Headquarter: string (nullable = true)\n",
      "\n",
      "+-------------+-------------------+--------------------+--------------------+--------------------+\n",
      "|Ticker_symbol|           Security|              Sector|        Sub_Industry|         Headquarter|\n",
      "+-------------+-------------------+--------------------+--------------------+--------------------+\n",
      "|          MMM|         3M Company|         Industrials|Industrial Conglo...| St. Paul; Minnesota|\n",
      "|          ABT|Abbott Laboratories|         Health Care|Health Care Equip...|North Chicago; Il...|\n",
      "|         ABBV|             AbbVie|         Health Care|     Pharmaceuticals|North Chicago; Il...|\n",
      "|          ACN|      Accenture plc|Information Techn...|IT Consulting & O...|     Dublin; Ireland|\n",
      "|         ATVI|Activision Blizzard|Information Techn...|Home Entertainmen...|Santa Monica; Cal...|\n",
      "+-------------+-------------------+--------------------+--------------------+--------------------+\n",
      "only showing top 5 rows\n",
      "\n"
     ]
    }
   ],
   "source": [
    "df_stock_companies.printSchema()\n",
    "df_stock_companies.show(5)"
   ]
  },
  {
   "cell_type": "code",
   "execution_count": 39,
   "id": "6a75becf-a851-4a0f-b66d-f7a37a31e30a",
   "metadata": {},
   "outputs": [],
   "source": [
    "df_stock_price = sp.read.option(\"inferSchema\",\"true\").option(\"header\",\"true\").csv(\".\\Jupyter_Projects\\StockPrices.csv\")"
   ]
  },
  {
   "cell_type": "code",
   "execution_count": 99,
   "id": "357b692d-43e9-49f3-9b77-37e4d6726973",
   "metadata": {},
   "outputs": [
    {
     "name": "stdout",
     "output_type": "stream",
     "text": [
      "root\n",
      " |-- date: date (nullable = true)\n",
      " |-- symbol: string (nullable = true)\n",
      " |-- open: double (nullable = true)\n",
      " |-- close: double (nullable = true)\n",
      " |-- low: double (nullable = true)\n",
      " |-- high: double (nullable = true)\n",
      " |-- volume: integer (nullable = true)\n",
      "\n",
      "+----------+------+-----------+-----------+-----------+-----------+-------+\n",
      "|      date|symbol|       open|      close|        low|       high| volume|\n",
      "+----------+------+-----------+-----------+-----------+-----------+-------+\n",
      "|2010-01-04|     A|22.45350429|22.38912804|22.26752504|22.62517954|3815500|\n",
      "|2010-01-05|     A|22.32474893|22.14592346|22.00286123|22.33190343|4186000|\n",
      "|2010-01-06|     A|22.06723963|22.06723963|22.00286123|22.17453577|3243700|\n",
      "|2010-01-07|     A| 22.0171681|22.03862589|21.81688126| 22.0457804|3095100|\n",
      "|2010-01-08|     A|21.91702432|22.03147353|21.74534979|22.06723963|3733900|\n",
      "+----------+------+-----------+-----------+-----------+-----------+-------+\n",
      "only showing top 5 rows\n",
      "\n"
     ]
    },
    {
     "data": {
      "text/plain": [
       "851264"
      ]
     },
     "execution_count": 99,
     "metadata": {},
     "output_type": "execute_result"
    }
   ],
   "source": [
    "df_stock_price.printSchema()\n",
    "df_stock_price.orderBy('symbol','date').show(5)\n",
    "df_stock_price.count()"
   ]
  },
  {
   "cell_type": "markdown",
   "id": "6d754da1-531b-40e4-9331-9ec7920ba8ea",
   "metadata": {},
   "source": [
    "Filter and analyze some data in StockCompanies DF"
   ]
  },
  {
   "cell_type": "code",
   "execution_count": 50,
   "id": "8eb10c12-8ed7-4d8a-9d1b-c4bd993bf369",
   "metadata": {},
   "outputs": [
    {
     "data": {
      "text/plain": [
       "69"
      ]
     },
     "execution_count": 50,
     "metadata": {},
     "output_type": "execute_result"
    }
   ],
   "source": [
    "# Filter and get the count of only those sectore which is equal to Industrials \n",
    "\n",
    "df_stock_companies.filter(f.lower(f.col(\"sector\")) == \"Industrials\".lower()).count()"
   ]
  },
  {
   "cell_type": "code",
   "execution_count": 66,
   "id": "5c049624-2e19-425d-9d84-a599c9728a2d",
   "metadata": {},
   "outputs": [
    {
     "name": "stdout",
     "output_type": "stream",
     "text": [
      "+------+-----+\n",
      "|symbol|count|\n",
      "+------+-----+\n",
      "|   FTV|  126|\n",
      "|  WLTW|  251|\n",
      "|  CSRA|  284|\n",
      "|   HPE|  304|\n",
      "|  PYPL|  378|\n",
      "|   KHC|  378|\n",
      "|   WRK|  385|\n",
      "|  QRVO|  504|\n",
      "|   SYF|  504|\n",
      "|   CFG|  504|\n",
      "|  NAVI|  504|\n",
      "|  ALLE|  786|\n",
      "|  EVHC|  853|\n",
      "|   NWS|  892|\n",
      "|  NWSA|  892|\n",
      "|   MNK|  894|\n",
      "|  COTY|  896|\n",
      "|   ZTS|  987|\n",
      "|  FBHS| 1008|\n",
      "|  KORS| 1008|\n",
      "+------+-----+\n",
      "only showing top 20 rows\n",
      "\n"
     ]
    }
   ],
   "source": [
    "#Get the count of all ticker symbol\n",
    "df_stock_price.groupBy('symbol').count().alias('Count').orderBy('Count', ascending=True).show()"
   ]
  },
  {
   "cell_type": "code",
   "execution_count": 73,
   "id": "4ff13cbe-785a-4db2-894d-4b8f13147210",
   "metadata": {},
   "outputs": [
    {
     "name": "stdout",
     "output_type": "stream",
     "text": [
      "+------------+-----+\n",
      "|    security|count|\n",
      "+------------+-----+\n",
      "|Under Armour|    2|\n",
      "+------------+-----+\n",
      "\n",
      "+-------------+------------+--------------------+--------------------+-------------------+\n",
      "|Ticker_symbol|    Security|              Sector|        Sub_Industry|        Headquarter|\n",
      "+-------------+------------+--------------------+--------------------+-------------------+\n",
      "|           UA|Under Armour|Consumer Discreti...|Apparel; Accessor...|Baltimore; Maryland|\n",
      "|          UAA|Under Armour|Consumer Discreti...|Apparel; Accessor...|Baltimore; Maryland|\n",
      "+-------------+------------+--------------------+--------------------+-------------------+\n",
      "\n"
     ]
    }
   ],
   "source": [
    "df_stock_companies.groupBy('security').count().where(f.col('count')>1).show()\n",
    "\n",
    "df_stock_companies.where(f.col('security').like('Under%')).show()"
   ]
  },
  {
   "cell_type": "markdown",
   "id": "2ce2170b-8a60-477d-80ab-e7bb3e91471b",
   "metadata": {},
   "source": [
    "Fetch data with start date and end date along with their associated closing price for each symbol"
   ]
  },
  {
   "cell_type": "code",
   "execution_count": 157,
   "id": "a1b70774-a74f-4d90-aece-af2e6fd12747",
   "metadata": {},
   "outputs": [],
   "source": [
    "df_new_stock = df_stock_price.groupBy(df_stock_price.symbol.alias('sym'))\\\n",
    "    .agg(    f.min(f.col('date')).alias('Min_Date') ,\\\n",
    "             f.max(f.col('date')).alias('Max_Date'))\\\n",
    "    .orderBy('symbol')\n",
    "\n",
    "#.withColumn('close', f.min(f.col('close')).over(w.partitionBy('symbol').orderBy('date')))\\"
   ]
  },
  {
   "cell_type": "code",
   "execution_count": 158,
   "id": "a0db0ef9-4675-44b1-820b-3593d54d57a4",
   "metadata": {},
   "outputs": [],
   "source": [
    "df_new_stock = df_stock_price.join(df_new_stock,(df_new_stock.Min_Date==df_stock_price.date) & (df_new_stock.sym==df_stock_price.symbol),'inner')\\\n",
    "        .select('sym','Min_Date','Max_Date',df_stock_price.close.alias('Min_Close'))\\\n",
    "        .orderBy('sym')"
   ]
  },
  {
   "cell_type": "code",
   "execution_count": 159,
   "id": "5f2e3c6f-7ae2-4d0a-9808-c87a7a23ed3d",
   "metadata": {},
   "outputs": [],
   "source": [
    "df_new_stock = df_stock_price.join(df_new_stock,(df_new_stock.Max_Date==df_stock_price.date) & (df_new_stock.sym==df_stock_price.symbol),'inner')\\\n",
    "        .select('symbol','Min_Date','Max_Date','Min_CLose',df_stock_price.close.alias('Max_Close'))\\\n",
    "        .orderBy('symbol')"
   ]
  },
  {
   "cell_type": "code",
   "execution_count": 160,
   "id": "2595539c-de65-4edb-8f2c-eb02bb2a9599",
   "metadata": {},
   "outputs": [
    {
     "name": "stdout",
     "output_type": "stream",
     "text": [
      "+------+----------+----------+-----------+----------+\n",
      "|symbol|  Min_Date|  Max_Date|  Min_CLose| Max_Close|\n",
      "+------+----------+----------+-----------+----------+\n",
      "|     A|2010-01-04|2016-12-30|22.38912804| 45.560001|\n",
      "|   AAL|2010-01-04|2016-12-30|       4.77| 46.689999|\n",
      "|   AAP|2010-01-04|2016-12-30|  40.380001|169.119995|\n",
      "|  AAPL|2010-01-04|2016-12-30|30.57285686|    115.82|\n",
      "|  ABBV|2013-01-02|2016-12-30|  35.119999| 62.619999|\n",
      "|   ABC|2010-01-04|2016-12-30|  26.629999| 78.190002|\n",
      "|   ABT|2010-01-04|2016-12-30|26.12988449|     38.41|\n",
      "|   ACN|2010-01-04|2016-12-30|      42.07|117.129997|\n",
      "|  ADBE|2010-01-04|2016-12-30|      37.09|102.949997|\n",
      "|   ADI|2010-01-04|2016-12-30|      31.67| 72.620003|\n",
      "|   ADM|2010-01-04|2016-12-30|  31.469999| 45.650002|\n",
      "|   ADP|2010-01-04|2016-12-30|37.60316242|102.779999|\n",
      "|   ADS|2010-01-04|2016-12-30|  65.889999|     228.5|\n",
      "|  ADSK|2010-01-04|2016-12-30|      25.67| 74.010002|\n",
      "|   AEE|2010-01-04|2016-12-30|      27.76| 52.459999|\n",
      "|   AEP|2010-01-04|2016-12-30|  34.939999| 62.959999|\n",
      "|   AES|2010-01-04|2016-12-30|      13.67|     11.62|\n",
      "|   AET|2010-01-04|2016-12-30|       33.0|124.010002|\n",
      "|   AFL|2010-01-04|2016-12-30|      47.57| 69.599998|\n",
      "|   AGN|2010-01-04|2016-12-30|  40.290001|210.009995|\n",
      "+------+----------+----------+-----------+----------+\n",
      "only showing top 20 rows\n",
      "\n"
     ]
    }
   ],
   "source": [
    "df_new_stock.show()"
   ]
  },
  {
   "cell_type": "code",
   "execution_count": 173,
   "id": "bd462c5e-ac29-4921-a522-71d7c50b7004",
   "metadata": {},
   "outputs": [],
   "source": [
    "df_diff_close = df_new_stock.withColumn('Diffrence',f.round(f.col('Max_Close') - f.col('Min_Close'),2))\\\n",
    "                            .withColumn('Profit_%', f.round((f.col('Max_Close') - f.col('Min_Close'))* 100/f.col('Min_Close'),2))\\\n",
    "                            .orderBy('Profit_%')"
   ]
  },
  {
   "cell_type": "code",
   "execution_count": 174,
   "id": "5352d95c-a0f9-427f-aa32-2a5a3e0a56ad",
   "metadata": {},
   "outputs": [
    {
     "name": "stdout",
     "output_type": "stream",
     "text": [
      "+------+----------+----------+-----------+---------+---------+--------+\n",
      "|symbol|  Min_Date|  Max_Date|  Min_CLose|Max_Close|Diffrence|Profit_%|\n",
      "+------+----------+----------+-----------+---------+---------+--------+\n",
      "|   RIG|2010-01-04|2016-12-30|  86.779999|    14.74|   -72.04|  -83.01|\n",
      "|   SWN|2010-01-04|2016-12-30|  50.830002|    10.82|   -40.01|  -78.71|\n",
      "|  FSLR|2010-01-04|2016-12-30| 135.460007|    32.09|  -103.37|  -76.31|\n",
      "|   CHK|2010-01-04|2016-12-30|26.57521381|     7.02|   -19.56|  -73.58|\n",
      "|   FCX|2010-01-04|2016-12-30| 41.7299995|    13.19|   -28.54|  -68.39|\n",
      "|  SPLS|2010-01-04|2016-12-30|       24.5|     9.05|   -15.45|  -63.06|\n",
      "|   FTR|2010-01-04|2016-12-30|       7.96|     3.38|    -4.58|  -57.54|\n",
      "|   MOS|2010-01-04|2016-12-30|  61.709999|    29.33|   -32.38|  -52.47|\n",
      "|   NRG|2010-01-04|2016-12-30|  23.870001|    12.26|   -11.61|  -48.64|\n",
      "|   KMI|2013-01-02|2016-12-30|  36.529999|20.709999|   -15.82|  -43.31|\n",
      "|   DVN|2010-01-04|2016-12-30|      76.57|45.669998|    -30.9|  -40.36|\n",
      "|   APA|2010-01-04|2016-12-30| 105.870003|63.470001|    -42.4|  -40.05|\n",
      "|   HPQ|2010-01-04|2016-12-30|23.81925477|    14.84|    -8.98|   -37.7|\n",
      "|   MUR|2010-01-04|2016-12-30|48.29016062|31.129999|   -17.16|  -35.54|\n",
      "|   CTL|2010-01-04|2016-12-30|      36.66|23.780001|   -12.88|  -35.13|\n",
      "|   RRC|2010-01-04|2016-12-30|  52.599998|34.360001|   -18.24|  -34.68|\n",
      "|    FE|2010-01-04|2016-12-30|      46.77|30.969999|    -15.8|  -33.78|\n",
      "|   PBI|2010-01-04|2016-12-30|      22.92|    15.19|    -7.73|  -33.73|\n",
      "|    WY|2010-01-04|2016-12-30|  44.279999|    30.09|   -14.19|  -32.05|\n",
      "|   NEM|2010-01-04|2016-12-30|  48.450001|    34.07|   -14.38|  -29.68|\n",
      "+------+----------+----------+-----------+---------+---------+--------+\n",
      "only showing top 20 rows\n",
      "\n"
     ]
    }
   ],
   "source": [
    "df_diff_close.show()"
   ]
  },
  {
   "cell_type": "markdown",
   "id": "633b14fe-f762-4c9c-85e8-23583a3397fc",
   "metadata": {},
   "source": [
    "Top 10 Performer"
   ]
  },
  {
   "cell_type": "code",
   "execution_count": 180,
   "id": "91dc36eb-e40f-4d3a-a14a-01dbfc4cf2d1",
   "metadata": {},
   "outputs": [
    {
     "name": "stdout",
     "output_type": "stream",
     "text": [
      "+------+----------+----------+-----------+----------+---------+--------+\n",
      "|symbol|  Min_Date|  Max_Date|  Min_CLose| Max_Close|Diffrence|Profit_%|\n",
      "+------+----------+----------+-----------+----------+---------+--------+\n",
      "|  NFLX|2010-01-04|2016-12-30|7.639999857|123.800003|   116.16| 1520.42|\n",
      "|  REGN|2010-01-04|2016-12-30|  24.629999|367.089996|   342.46| 1390.42|\n",
      "|  ULTA|2010-01-04|2016-12-30|      18.85|254.940002|   236.09| 1252.47|\n",
      "|   URI|2010-01-04|2016-12-30|      10.04|105.580002|    95.54|  951.59|\n",
      "|   ALK|2010-01-04|2016-12-30| 8.71749975| 88.730003|    80.01|  917.84|\n",
      "|   AAL|2010-01-04|2016-12-30|       4.77| 46.689999|    41.92|  878.83|\n",
      "|   STZ|2010-01-04|2016-12-30|  16.120001|153.309998|   137.19|  851.05|\n",
      "|  AVGO|2010-01-04|2016-12-30|  18.860001|176.770004|   157.91|  837.27|\n",
      "|  CHTR|2010-01-05|2016-12-30|       35.0|287.920013|   252.92|  722.63|\n",
      "|  ORLY|2010-01-04|2016-12-30|       38.5|278.410004|   239.91|  623.14|\n",
      "+------+----------+----------+-----------+----------+---------+--------+\n",
      "\n"
     ]
    }
   ],
   "source": [
    "df_diff_close.orderBy(f.col('Profit_%'), ascending = False).limit(10).show()"
   ]
  },
  {
   "cell_type": "code",
   "execution_count": 188,
   "id": "9dc62b95-ea49-49e9-bc4e-9e732423c55d",
   "metadata": {},
   "outputs": [
    {
     "name": "stdout",
     "output_type": "stream",
     "text": [
      "+-----------------+\n",
      "|    avg(Profit_%)|\n",
      "+-----------------+\n",
      "|146.2535329341318|\n",
      "+-----------------+\n",
      "\n"
     ]
    }
   ],
   "source": [
    "df_diff_close.agg(f.avg(f.col('Profit_%'))).show()"
   ]
  },
  {
   "cell_type": "code",
   "execution_count": null,
   "id": "da94e742-2a17-4f21-a3da-0c633fce032d",
   "metadata": {},
   "outputs": [],
   "source": []
  }
 ],
 "metadata": {
  "kernelspec": {
   "display_name": "Python 3 (ipykernel)",
   "language": "python",
   "name": "python3"
  },
  "language_info": {
   "codemirror_mode": {
    "name": "ipython",
    "version": 3
   },
   "file_extension": ".py",
   "mimetype": "text/x-python",
   "name": "python",
   "nbconvert_exporter": "python",
   "pygments_lexer": "ipython3",
   "version": "3.11.8"
  }
 },
 "nbformat": 4,
 "nbformat_minor": 5
}
